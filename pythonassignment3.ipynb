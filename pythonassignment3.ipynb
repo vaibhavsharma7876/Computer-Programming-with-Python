{
 "cells": [
  {
   "cell_type": "markdown",
   "id": "46b39ac6",
   "metadata": {},
   "source": [
    "## Assignment 3 (AI-503 Computer Programming with Python)"
   ]
  },
  {
   "cell_type": "markdown",
   "id": "a95ade68",
   "metadata": {},
   "source": [
    "Submitted By: Vaibhav Sharma (25901339)"
   ]
  },
  {
   "cell_type": "markdown",
   "id": "f932555e",
   "metadata": {},
   "source": [
    "Q1) Generate all prime numbers less than 100.Print them in a spiral format (like a clockwise\n",
    "square spiral) of minimal size that fits all primes."
   ]
  },
  {
   "cell_type": "code",
   "execution_count": 11,
   "id": "e3858b49",
   "metadata": {},
   "outputs": [
    {
     "name": "stdout",
     "output_type": "stream",
     "text": [
      "Prime Spiral (numbers less than 100):\n",
      " 2  3  5  7 11\n",
      "53 59 61 67 13\n",
      "47 89 97 71 17\n",
      "43 83 79 73 19\n",
      "41 37 31 29 23\n"
     ]
    }
   ],
   "source": [
    "\n",
    "import math\n",
    "\n",
    "def is_prime(n):\n",
    "    if n < 2:\n",
    "        return False\n",
    "    for i in range(2, int(math.sqrt(n)) + 1):\n",
    "        if n % i == 0:\n",
    "            return False\n",
    "    return True\n",
    "\n",
    "\n",
    "primes = [x for x in range(2, 100) if is_prime(x)]\n",
    "\n",
    "\n",
    "n = math.ceil(math.sqrt(len(primes)))\n",
    "\n",
    "\n",
    "spiral = [[0]*n for _ in range(n)]\n",
    "dirs = [(0,1),(1,0),(0,-1),(-1,0)]  \n",
    "x, y, d = 0, 0, 0\n",
    "\n",
    "for p in primes:\n",
    "    spiral[x][y] = p\n",
    "    nx, ny = x + dirs[d][0], y + dirs[d][1]\n",
    "    if not (0 <= nx < n and 0 <= ny < n and spiral[nx][ny] == 0):\n",
    "        d = (d+1) % 4\n",
    "        nx, ny = x + dirs[d][0], y + dirs[d][1]\n",
    "    x, y = nx, ny\n",
    "\n",
    "print(\"Prime Spiral (numbers less than 100):\")\n",
    "for row in spiral:\n",
    "    print(\" \".join(f\"{num:2}\" if num else \" .\" for num in row))\n"
   ]
  },
  {
   "cell_type": "markdown",
   "id": "abd6f857",
   "metadata": {},
   "source": [
    "Q2) You are a data analyst at a streaming platform, managing user interactions, analytics,\n",
    "and daily operations. Use a for loop to create a text-based graph of hourly views. For\n",
    "example, use * to represent every 5 views."
   ]
  },
  {
   "cell_type": "code",
   "execution_count": 12,
   "id": "78b08974",
   "metadata": {},
   "outputs": [
    {
     "name": "stdout",
     "output_type": "stream",
     "text": [
      "Hourly Views Graph (* = 5 views)\n",
      "Hour  1: ** (12)\n",
      "Hour  2: * (5)\n",
      "Hour  3: **** (20)\n",
      "Hour  4: * (7)\n",
      "Hour  5: *** (15)\n",
      "Hour  6: ****** (30)\n",
      "Hour  7: ** (10)\n",
      "Hour  8: ***** (25)\n"
     ]
    }
   ],
   "source": [
    "hourly_views = [12, 5, 20, 7, 15, 30, 10, 25]\n",
    "\n",
    "print(\"Hourly Views Graph (* = 5 views)\")\n",
    "for i, v in enumerate(hourly_views, start=1):\n",
    "    stars = \"*\" * (v // 5)\n",
    "    print(f\"Hour {i:2}: {stars} ({v})\")\n"
   ]
  },
  {
   "cell_type": "markdown",
   "id": "be1f555a",
   "metadata": {},
   "source": [
    "Q3) Each video watched generates revenue based on ad impressions:\n",
    " First 10 views: $0.50 per view\n",
    " Next 20 views: $0.30 per view\n",
    " Remaining views: $0.10 per view\n",
    "You are given hourly views for the day. Calculate total daily revenue."
   ]
  },
  {
   "cell_type": "code",
   "execution_count": 13,
   "id": "9c3246df",
   "metadata": {},
   "outputs": [
    {
     "name": "stdout",
     "output_type": "stream",
     "text": [
      "Total Views: 124\n",
      "Total Revenue: $ 20.4\n"
     ]
    }
   ],
   "source": [
    "\n",
    "hourly_views = [12, 5, 20, 7, 15, 30, 10, 25]\n",
    "\n",
    "total_views = sum(hourly_views)\n",
    "revenue = 0\n",
    "\n",
    "if total_views <= 10:\n",
    "    revenue = total_views * 0.50\n",
    "elif total_views <= 30:\n",
    "    revenue = (10 * 0.50) + (total_views - 10) * 0.30\n",
    "else:\n",
    "    revenue = (10 * 0.50) + (20 * 0.30) + (total_views - 30) * 0.10\n",
    "\n",
    "print(\"Total Views:\", total_views)\n",
    "print(\"Total Revenue: $\", round(revenue, 2))\n"
   ]
  }
 ],
 "metadata": {
  "kernelspec": {
   "display_name": "Python 3",
   "language": "python",
   "name": "python3"
  },
  "language_info": {
   "codemirror_mode": {
    "name": "ipython",
    "version": 3
   },
   "file_extension": ".py",
   "mimetype": "text/x-python",
   "name": "python",
   "nbconvert_exporter": "python",
   "pygments_lexer": "ipython3",
   "version": "3.12.3"
  }
 },
 "nbformat": 4,
 "nbformat_minor": 5
}
