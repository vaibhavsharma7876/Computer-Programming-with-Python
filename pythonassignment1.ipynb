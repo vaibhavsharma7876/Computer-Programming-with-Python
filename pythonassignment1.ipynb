{
 "cells": [
  {
   "cell_type": "markdown",
   "id": "ebebaa3c",
   "metadata": {},
   "source": [
    "## Assignment 1 (AI-503 Computer Programming with Python)"
   ]
  },
  {
   "cell_type": "markdown",
   "id": "6b26bb94",
   "metadata": {},
   "source": [
    "Submitted By:- Vaibhav Sharma (25901339)"
   ]
  },
  {
   "cell_type": "markdown",
   "id": "6a4b39ff",
   "metadata": {},
   "source": [
    "Q1) Write a Python program to get a list, sorted in increasing order by the last element in each tuple from a given list of non-empty tuples. \n",
    "Sample List: [(2, 5), (1, 2), (4, 4), (2, 3), (2, 1)] \n"
   ]
  },
  {
   "cell_type": "code",
   "execution_count": 5,
   "id": "bf4784f2",
   "metadata": {},
   "outputs": [
    {
     "name": "stdout",
     "output_type": "stream",
     "text": [
      "Sorted List: [(2, 1), (1, 2), (2, 3), (4, 4), (2, 5)]\n"
     ]
    }
   ],
   "source": [
    "sample_list = [(2, 5), (1, 2), (4, 4), (2, 3), (2, 1)]\n",
    "\n",
    "\n",
    "n = len(sample_list)\n",
    "\n",
    "\n",
    "for i in range(n):\n",
    "    for j in range(0, n - i - 1):\n",
    "        if sample_list[j][-1] > sample_list[j + 1][-1]:\n",
    "         \n",
    "            sample_list[j], sample_list[j + 1] = sample_list[j + 1], sample_list[j]\n",
    "\n",
    "print(\"Sorted List:\", sample_list)\n"
   ]
  },
  {
   "cell_type": "markdown",
   "id": "02f1bb83",
   "metadata": {},
   "source": [
    "Q2) Write a Python program to get a string from a given string where all occurrences of its first char have been changed to '$', except the first char itself. Sample String : 'restart' \n"
   ]
  },
  {
   "cell_type": "code",
   "execution_count": 6,
   "id": "b78be04e",
   "metadata": {},
   "outputs": [
    {
     "name": "stdout",
     "output_type": "stream",
     "text": [
      "Modified String: resta$t\n"
     ]
    }
   ],
   "source": [
    "s = \"restart\"\n",
    "\n",
    "\n",
    "first_char = s[0]\n",
    "\n",
    "\n",
    "modified = first_char + s[1:].replace(first_char, '$')\n",
    "\n",
    "print(\"Modified String:\", modified)\n"
   ]
  },
  {
   "cell_type": "markdown",
   "id": "e05ecc2e",
   "metadata": {},
   "source": [
    "Q3) Write a Python program to find the first appearance of the substring 'not' and 'poor' from a given string, if 'bad' follows the 'poor', replace the whole 'not'...'poor' substring with 'good'. Return the resulting string. \n",
    "Sample String: 'The lyrics is not that poor!' "
   ]
  },
  {
   "cell_type": "code",
   "execution_count": 11,
   "id": "0068b063",
   "metadata": {},
   "outputs": [
    {
     "name": "stdout",
     "output_type": "stream",
     "text": [
      "Modified String: The lyrics is good!\n"
     ]
    }
   ],
   "source": [
    "s = \"The lyrics is not that poor!\"\n",
    "\n",
    "\n",
    "not_index = s.find('not')\n",
    "poor_index = s.find('poor')\n",
    "\n",
    "\n",
    "if not_index != -1 and poor_index != -1 and poor_index > not_index:\n",
    "    s = s[:not_index] + \"good\" + s[poor_index + 4:]\n",
    "\n",
    "print(\"Modified String:\", s)\n"
   ]
  },
  {
   "cell_type": "markdown",
   "id": "8243a650",
   "metadata": {},
   "source": [
    "Q4) Write a python program to sort a dictionary by value. "
   ]
  },
  {
   "cell_type": "code",
   "execution_count": 12,
   "id": "ff97b9c7",
   "metadata": {},
   "outputs": [
    {
     "name": "stdout",
     "output_type": "stream",
     "text": [
      "Dictionary sorted by value: {'banana': 5, 'apple': 10, 'date': 15, 'cherry': 20}\n"
     ]
    }
   ],
   "source": [
    "my_dict = {'apple': 10, 'banana': 5, 'cherry': 20, 'date': 15}\n",
    "\n",
    "\n",
    "items = list(my_dict.items())\n",
    "\n",
    "\n",
    "n = len(items)\n",
    "for i in range(n):\n",
    "    for j in range(0, n - i - 1):\n",
    "        if items[j][1] > items[j + 1][1]: \n",
    "           \n",
    "            items[j], items[j + 1] = items[j + 1], items[j]\n",
    "\n",
    "\n",
    "sorted_dict = dict(items)\n",
    "\n",
    "print(\"Dictionary sorted by value:\", sorted_dict)\n"
   ]
  },
  {
   "cell_type": "markdown",
   "id": "3b0d7040",
   "metadata": {},
   "source": [
    "Q5) Write a python program to add key to a dictionary. "
   ]
  },
  {
   "cell_type": "code",
   "execution_count": 13,
   "id": "207d738d",
   "metadata": {},
   "outputs": [
    {
     "name": "stdout",
     "output_type": "stream",
     "text": [
      "Updated Dictionary: {1: 'a', 2: 'b', 3: 'c'}\n"
     ]
    }
   ],
   "source": [
    "# Program to add a key to a dictionary\n",
    "\n",
    "\n",
    "my_dict = {1: 'a', 2: 'b'}\n",
    "\n",
    "\n",
    "my_dict[3] = 'c'\n",
    "\n",
    "print(\"Updated Dictionary:\", my_dict)\n"
   ]
  }
 ],
 "metadata": {
  "kernelspec": {
   "display_name": "Python 3",
   "language": "python",
   "name": "python3"
  },
  "language_info": {
   "codemirror_mode": {
    "name": "ipython",
    "version": 3
   },
   "file_extension": ".py",
   "mimetype": "text/x-python",
   "name": "python",
   "nbconvert_exporter": "python",
   "pygments_lexer": "ipython3",
   "version": "3.12.3"
  }
 },
 "nbformat": 4,
 "nbformat_minor": 5
}
