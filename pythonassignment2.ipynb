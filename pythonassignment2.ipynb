{
 "cells": [
  {
   "cell_type": "markdown",
   "id": "ad5c12d4",
   "metadata": {},
   "source": [
    "## Assignment 2 (AI-503 Computer Programming with Python)"
   ]
  },
  {
   "cell_type": "markdown",
   "id": "75d349f7",
   "metadata": {},
   "source": [
    "Submitted By: Vaibhav Sharma (25901339)"
   ]
  },
  {
   "cell_type": "code",
   "execution_count": 3,
   "id": "2668824d",
   "metadata": {},
   "outputs": [
    {
     "name": "stdout",
     "output_type": "stream",
     "text": [
      "Positive\n"
     ]
    }
   ],
   "source": [
    "# Program to check whether a number is positive, negative, or zero\n",
    "\n",
    "# Input from user\n",
    "num = int(input(\"Enter a number: \"))\n",
    "\n",
    "# Check conditions\n",
    "if num > 0:            # If number is greater than 0\n",
    "    print(\"Positive\")\n",
    "elif num < 0:          # If number is less than 0\n",
    "    print(\"Negative\")\n",
    "else:                  # If number is neither > 0 nor < 0, it must be 0\n",
    "    print(\"Zero\")\n"
   ]
  },
  {
   "cell_type": "code",
   "execution_count": 4,
   "id": "4c5273d3",
   "metadata": {},
   "outputs": [
    {
     "name": "stdout",
     "output_type": "stream",
     "text": [
      "Odd\n"
     ]
    }
   ],
   "source": [
    "# Program to check whether a number is even or odd\n",
    "\n",
    "# Input from user\n",
    "num = int(input(\"Enter a number: \"))\n",
    "\n",
    "# A number is even if divisible by 2, otherwise odd\n",
    "if num % 2 == 0:\n",
    "    print(\"Even\")\n",
    "else:\n",
    "    print(\"Odd\")\n"
   ]
  },
  {
   "cell_type": "code",
   "execution_count": 5,
   "id": "0a1e6e76",
   "metadata": {},
   "outputs": [
    {
     "name": "stdout",
     "output_type": "stream",
     "text": [
      "Largest: 6\n"
     ]
    }
   ],
   "source": [
    "# Program to find the largest of two numbers\n",
    "\n",
    "# Input two numbers\n",
    "a = int(input(\"Enter first number: \"))\n",
    "b = int(input(\"Enter second number: \"))\n",
    "\n",
    "# Compare numbers using if-else\n",
    "if a > b:\n",
    "    print(\"Largest:\", a)\n",
    "elif b > a:\n",
    "    print(\"Largest:\", b)\n",
    "else:   # If both are equal\n",
    "    print(\"Both are equal\")\n"
   ]
  },
  {
   "cell_type": "code",
   "execution_count": 6,
   "id": "208f368e",
   "metadata": {},
   "outputs": [
    {
     "name": "stdout",
     "output_type": "stream",
     "text": [
      "Absolute Value: 6\n"
     ]
    }
   ],
   "source": [
    "# Program to find absolute value without using abs()\n",
    "\n",
    "# Input from user\n",
    "num = int(input(\"Enter a number: \"))\n",
    "\n",
    "# Absolute value means distance from 0 (always non-negative)\n",
    "if num < 0:\n",
    "    print(\"Absolute Value:\", -num)   # If negative, multiply by -1\n",
    "else:\n",
    "    print(\"Absolute Value:\", num)    # If positive or zero, print as it is\n"
   ]
  },
  {
   "cell_type": "code",
   "execution_count": 7,
   "id": "7080663b",
   "metadata": {},
   "outputs": [
    {
     "name": "stdout",
     "output_type": "stream",
     "text": [
      "Eligible to vote\n"
     ]
    }
   ],
   "source": [
    "# Program to check voting eligibility\n",
    "\n",
    "# Input age\n",
    "age = int(input(\"Enter your age: \"))\n",
    "\n",
    "# A person is eligible if age >= 18\n",
    "if age >= 18:\n",
    "    print(\"Eligible to vote\")\n",
    "else:\n",
    "    print(\"Not eligible to vote\")\n"
   ]
  },
  {
   "cell_type": "code",
   "execution_count": 8,
   "id": "f79da621",
   "metadata": {},
   "outputs": [
    {
     "name": "stdout",
     "output_type": "stream",
     "text": [
      "Leap Year\n"
     ]
    }
   ],
   "source": [
    "# Program to check whether a year is a leap year\n",
    "\n",
    "# Input year\n",
    "year = int(input(\"Enter a year: \"))\n",
    "\n",
    "# Rule: Leap year is divisible by 400 OR (divisible by 4 but not by 100)\n",
    "if (year % 400 == 0) or (year % 4 == 0 and year % 100 != 0):\n",
    "    print(\"Leap Year\")\n",
    "else:\n",
    "    print(\"Not a Leap Year\")\n"
   ]
  },
  {
   "cell_type": "code",
   "execution_count": 9,
   "id": "caad5ebd",
   "metadata": {},
   "outputs": [
    {
     "name": "stdout",
     "output_type": "stream",
     "text": [
      "Pass\n"
     ]
    }
   ],
   "source": [
    "# Program to calculate pass or fail based on marks\n",
    "\n",
    "# Input marks\n",
    "marks = int(input(\"Enter marks: \"))\n",
    "\n",
    "# Condition: Pass if marks >= 40, else Fail\n",
    "if marks >= 40:\n",
    "    print(\"Pass\")\n",
    "else:\n",
    "    print(\"Fail\")\n"
   ]
  },
  {
   "cell_type": "code",
   "execution_count": 10,
   "id": "eb757882",
   "metadata": {},
   "outputs": [
    {
     "name": "stdout",
     "output_type": "stream",
     "text": [
      "Multiple of 5\n"
     ]
    }
   ],
   "source": [
    "# Program to check if a number is multiple of 5\n",
    "\n",
    "# Input number\n",
    "num = int(input(\"Enter a number: \"))\n",
    "\n",
    "# A number is multiple of 5 if remainder is 0 when divided by 5\n",
    "if num % 5 == 0:\n",
    "    print(\"Multiple of 5\")\n",
    "else:\n",
    "    print(\"Not a multiple of 5\")\n"
   ]
  },
  {
   "cell_type": "code",
   "execution_count": 11,
   "id": "eb6cd872",
   "metadata": {},
   "outputs": [
    {
     "name": "stdout",
     "output_type": "stream",
     "text": [
      "Uppercase letter\n"
     ]
    }
   ],
   "source": [
    "# Program to check case of a character\n",
    "\n",
    "# Input a single character\n",
    "ch = input(\"Enter a character: \")\n",
    "\n",
    "# Check ranges using ASCII values\n",
    "if 'A' <= ch <= 'Z':         # If character is between 'A' and 'Z'\n",
    "    print(\"Uppercase letter\")\n",
    "elif 'a' <= ch <= 'z':       # If character is between 'a' and 'z'\n",
    "    print(\"Lowercase letter\")\n",
    "elif '0' <= ch <= '9':       # If character is between '0' and '9'\n",
    "    print(\"It is a digit\")\n",
    "else:                        # For symbols and others\n",
    "    print(\"Not a letter\")\n"
   ]
  },
  {
   "cell_type": "code",
   "execution_count": 12,
   "id": "0150463c",
   "metadata": {},
   "outputs": [
    {
     "name": "stdout",
     "output_type": "stream",
     "text": [
      "Discount applied: ₹ 500.0\n",
      "Final bill amount: ₹ 4500.0\n"
     ]
    }
   ],
   "source": [
    "# Program to calculate discount on purchase amount\n",
    "\n",
    "# Input purchase amount\n",
    "amount = float(input(\"Enter purchase amount: \"))\n",
    "\n",
    "# Check if discount applies\n",
    "if amount >= 1000:\n",
    "    discount = amount * 0.10   # 10% discount\n",
    "    final_amount = amount - discount\n",
    "    print(\"Discount applied: ₹\", discount)\n",
    "else:\n",
    "    final_amount = amount      # No discount\n",
    "    print(\"No discount applied\")\n",
    "\n",
    "# Print the final bill amount\n",
    "print(\"Final bill amount: ₹\", final_amount)\n"
   ]
  },
  {
   "cell_type": "code",
   "execution_count": null,
   "id": "a3044000",
   "metadata": {},
   "outputs": [],
   "source": []
  }
 ],
 "metadata": {
  "kernelspec": {
   "display_name": "Python 3",
   "language": "python",
   "name": "python3"
  },
  "language_info": {
   "codemirror_mode": {
    "name": "ipython",
    "version": 3
   },
   "file_extension": ".py",
   "mimetype": "text/x-python",
   "name": "python",
   "nbconvert_exporter": "python",
   "pygments_lexer": "ipython3",
   "version": "3.12.3"
  }
 },
 "nbformat": 4,
 "nbformat_minor": 5
}
